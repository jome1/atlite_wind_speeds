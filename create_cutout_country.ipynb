{
 "cells": [
  {
   "cell_type": "code",
   "execution_count": 1,
   "metadata": {},
   "outputs": [],
   "source": [
    "import geopandas as gpd\n",
    "import pygadm\n",
    "\n",
    "import atlite\n",
    "import logging\n",
    "\n",
    "logging.basicConfig(level=logging.INFO)"
   ]
  },
  {
   "cell_type": "code",
   "execution_count": 2,
   "metadata": {},
   "outputs": [
    {
     "data": {
      "text/plain": [
       "<Axes: >"
      ]
     },
     "execution_count": 2,
     "metadata": {},
     "output_type": "execute_result"
    },
    {
     "data": {
      "image/png": "[encoded data removed]",
      "text/plain": [
       "<Figure size 640x480 with 1 Axes>"
      ]
     },
     "metadata": {},
     "output_type": "display_data"
    }
   ],
   "source": [
    "country_code = 'EGY' #ISO 3 letters\n",
    "\n",
    "#get country shape from gadm.org via pygadm package\n",
    "gadm_data = pygadm.Items(admin=country_code)\n",
    "country = gadm_data\n",
    "\n",
    "#pygadm lib extracts information from the GADM dataset as GeoPandas GeoDataFrame. GADM.org provides files in coordinate reference system is longitude/latitude and the WGS84 datum.\n",
    "country.set_crs('epsg:4326', inplace=True) \n",
    "\n",
    "country.plot()"
   ]
  },
  {
   "cell_type": "code",
   "execution_count": 3,
   "metadata": {},
   "outputs": [
    {
     "name": "stdout",
     "output_type": "stream",
     "text": [
      "Bounding box: \n",
      "minx: 24.60836161081233, miny: 21.635568515814445, maxx: 36.33830105162701, maxy: 31.75713781049418\n"
     ]
    }
   ],
   "source": [
    "#calculate bounding box with 1000m buffer (region needs to be in projected CRS so meters are the unit)\n",
    "region_copy = country\n",
    "region_copy.to_crs(epsg=4087, inplace=True) #epsg 4087 world equidistant cylindrical\n",
    "region_copy['buffered']=region_copy.buffer(10000)\n",
    "# Convert buffered region back to EPSC 4326 to get bounding box latitude and longitude \n",
    "region_buffered_4326 = region_copy.set_geometry('buffered').to_crs(epsg=4326)\n",
    "bounding_box = region_buffered_4326['buffered'].total_bounds\n",
    "print(f\"Bounding box: \\nminx: {bounding_box[0]}, miny: {bounding_box[1]}, maxx: {bounding_box[2]}, maxy: {bounding_box[3]}\")"
   ]
  },
  {
   "cell_type": "code",
   "execution_count": 4,
   "metadata": {},
   "outputs": [
    {
     "name": "stdout",
     "output_type": "stream",
     "text": [
      "(24.60836161081233, 36.33830105162701)\n",
      "(21.635568515814445, 31.75713781049418)\n"
     ]
    }
   ],
   "source": [
    "#cutout atlite needs x-slice (longitude) and y-slice (latitude)\n",
    "#https://de.wikipedia.org/wiki/Geographische_Koordinaten\n",
    "\n",
    "x = (bounding_box[0], bounding_box[2])\n",
    "y = (bounding_box[1], bounding_box[3])\n",
    "\n",
    "print(x) \n",
    "print(y)"
   ]
  },
  {
   "cell_type": "markdown",
   "metadata": {},
   "source": [
    "# get cutout with atlite (copy the bounds from above)"
   ]
  },
  {
   "cell_type": "code",
   "execution_count": 5,
   "metadata": {},
   "outputs": [
    {
     "name": "stderr",
     "output_type": "stream",
     "text": [
      "INFO:atlite.cutout:Building new cutout egypt-2015-wind2-era5.nc\n"
     ]
    }
   ],
   "source": [
    "cutout = atlite.Cutout(\n",
    "    path=\"egypt-2015-wind2-era5.nc\",\n",
    "    module=\"era5\", \n",
    "    x=slice(24.60836161081233, 36.33830105162701),  \n",
    "    y=slice(21.635568515814445, 31.75713781049418),\n",
    "    time=\"2015\",\n",
    ")"
   ]
  },
  {
   "cell_type": "code",
   "execution_count": 6,
   "metadata": {},
   "outputs": [
    {
     "name": "stderr",
     "output_type": "stream",
     "text": [
      "INFO:atlite.data:Storing temporary files in C:\\Users\\b396636\\AppData\\Local\\Temp\\tmp73hk901v\n",
      "INFO:atlite.data:Calculating and writing with module era5:\n"
     ]
    },
    {
     "name": "stderr",
     "output_type": "stream",
     "text": [
      "INFO:atlite.datasets.era5:Requesting data for feature wind...\n",
      "c:\\Users\\b396636\\AppData\\Local\\anaconda3\\envs\\atlite\\Lib\\site-packages\\cads_api_client\\legacy_api_client.py:101: UserWarning: This is a beta version. The following parameters have not been implemented yet: {'info_callback': <bound method Logger.debug of <Logger atlite.datasets.era5 (INFO)>>}.\n",
      "  warnings.warn(\n",
      "2024-10-13 20:15:43,652 WARNING [2024-10-10T00:00:00] The final validated ERA5 differs from ERA5T in July 2024 - please refer to our\n",
      "[Forum announcement](https://forum.ecmwf.int/t/final-validated-era5-product-to-differ-from-era5t-in-july-2024/6685)\n",
      "for details and watch it for further updates on this.\n",
      "WARNING:cads_api_client.processing:[2024-10-10T00:00:00] The final validated ERA5 differs from ERA5T in July 2024 - please refer to our\n",
      "[Forum announcement](https://forum.ecmwf.int/t/final-validated-era5-product-to-differ-from-era5t-in-july-2024/6685)\n",
      "for details and watch it for further updates on this.\n",
      "2024-10-13 20:15:43,656 WARNING [2024-10-10T00:00:00] The final validated ERA5 differs from ERA5T in July 2024 - please refer to our\n",
      "[Forum announcement](https://forum.ecmwf.int/t/final-validated-era5-product-to-differ-from-era5t-in-july-2024/6685)\n",
      "for details and watch it for further updates on this.\n",
      "WARNING:cads_api_client.processing:[2024-10-10T00:00:00] The final validated ERA5 differs from ERA5T in July 2024 - please refer to our\n",
      "[Forum announcement](https://forum.ecmwf.int/t/final-validated-era5-product-to-differ-from-era5t-in-july-2024/6685)\n",
      "for details and watch it for further updates on this.\n",
      "2024-10-13 20:15:43,656 WARNING [2024-10-10T00:00:00] The final validated ERA5 differs from ERA5T in July 2024 - please refer to our\n",
      "[Forum announcement](https://forum.ecmwf.int/t/final-validated-era5-product-to-differ-from-era5t-in-july-2024/6685)\n",
      "for details and watch it for further updates on this.\n",
      "WARNING:cads_api_client.processing:[2024-10-10T00:00:00] The final validated ERA5 differs from ERA5T in July 2024 - please refer to our\n",
      "[Forum announcement](https://forum.ecmwf.int/t/final-validated-era5-product-to-differ-from-era5t-in-july-2024/6685)\n",
      "for details and watch it for further updates on this.\n",
      "2024-10-13 20:15:43,658 WARNING [2024-10-10T00:00:00] The final validated ERA5 differs from ERA5T in July 2024 - please refer to our\n",
      "[Forum announcement](https://forum.ecmwf.int/t/final-validated-era5-product-to-differ-from-era5t-in-july-2024/6685)\n",
      "for details and watch it for further updates on this.\n",
      "WARNING:cads_api_client.processing:[2024-10-10T00:00:00] The final validated ERA5 differs from ERA5T in July 2024 - please refer to our\n",
      "[Forum announcement](https://forum.ecmwf.int/t/final-validated-era5-product-to-differ-from-era5t-in-july-2024/6685)\n",
      "for details and watch it for further updates on this.\n",
      "2024-10-13 20:15:43,659 WARNING [2024-10-10T00:00:00] The final validated ERA5 differs from ERA5T in July 2024 - please refer to our\n",
      "[Forum announcement](https://forum.ecmwf.int/t/final-validated-era5-product-to-differ-from-era5t-in-july-2024/6685)\n",
      "for details and watch it for further updates on this.\n",
      "WARNING:cads_api_client.processing:[2024-10-10T00:00:00] The final validated ERA5 differs from ERA5T in July 2024 - please refer to our\n",
      "[Forum announcement](https://forum.ecmwf.int/t/final-validated-era5-product-to-differ-from-era5t-in-july-2024/6685)\n",
      "for details and watch it for further updates on this.\n",
      "2024-10-13 20:15:43,660 WARNING [2024-10-10T00:00:00] The final validated ERA5 differs from ERA5T in July 2024 - please refer to our\n",
      "[Forum announcement](https://forum.ecmwf.int/t/final-validated-era5-product-to-differ-from-era5t-in-july-2024/6685)\n",
      "for details and watch it for further updates on this.\n",
      "2024-10-13 20:15:43,664 WARNING [2024-10-13T18:15:43.535499] You are using a deprecated API endpoint. If you are using cdsapi, please upgrade to the latest version.\n",
      "WARNING:cads_api_client.processing:[2024-10-10T00:00:00] The final validated ERA5 differs from ERA5T in July 2024 - please refer to our\n",
      "[Forum announcement](https://forum.ecmwf.int/t/final-validated-era5-product-to-differ-from-era5t-in-july-2024/6685)\n",
      "for details and watch it for further updates on this.\n",
      "2024-10-13 20:15:43,669 WARNING [2024-10-13T18:15:43.560326] You are using a deprecated API endpoint. If you are using cdsapi, please upgrade to the latest version.\n",
      "WARNING:cads_api_client.processing:[2024-10-13T18:15:43.535499] You are using a deprecated API endpoint. If you are using cdsapi, please upgrade to the latest version.\n",
      "2024-10-13 20:15:43,673 WARNING [2024-10-13T18:15:43.534959] You are using a deprecated API endpoint. If you are using cdsapi, please upgrade to the latest version.\n",
      "2024-10-13 20:15:43,675 WARNING [2024-10-13T18:15:43.504999] You are using a deprecated API endpoint. If you are using cdsapi, please upgrade to the latest version.\n",
      "WARNING:cads_api_client.processing:[2024-10-13T18:15:43.560326] You are using a deprecated API endpoint. If you are using cdsapi, please upgrade to the latest version.\n",
      "2024-10-13 20:15:43,680 WARNING [2024-10-13T18:15:43.524558] You are using a deprecated API endpoint. If you are using cdsapi, please upgrade to the latest version.\n",
      "WARNING:cads_api_client.processing:[2024-10-13T18:15:43.534959] You are using a deprecated API endpoint. If you are using cdsapi, please upgrade to the latest version.\n",
      "WARNING:cads_api_client.processing:[2024-10-13T18:15:43.504999] You are using a deprecated API endpoint. If you are using cdsapi, please upgrade to the latest version.\n",
      "WARNING:cads_api_client.processing:[2024-10-13T18:15:43.524558] You are using a deprecated API endpoint. If you are using cdsapi, please upgrade to the latest version.\n",
      "2024-10-13 20:15:43,681 WARNING [2024-10-13T18:15:43.512491] You are using a deprecated API endpoint. If you are using cdsapi, please upgrade to the latest version.\n",
      "WARNING:cads_api_client.processing:[2024-10-13T18:15:43.512491] You are using a deprecated API endpoint. If you are using cdsapi, please upgrade to the latest version.\n",
      "2024-10-13 20:15:43,682 INFO Request ID is 81409df9-eef7-46a6-aca1-4b346b872d29\n",
      "INFO:cads_api_client.processing:Request ID is 81409df9-eef7-46a6-aca1-4b346b872d29\n",
      "2024-10-13 20:15:43,684 INFO Request ID is 8b96ef9d-0669-4263-bdd1-70cf7a0a4228\n",
      "2024-10-13 20:15:43,685 INFO Request ID is c61d4bc0-1cf9-47a0-a9af-e1907336b6bc\n",
      "2024-10-13 20:15:43,685 INFO Request ID is 1bdc101b-0e81-42fb-95d0-ec2d61bb6057\n",
      "2024-10-13 20:15:43,686 INFO Request ID is 5efca594-d563-41e3-9e51-af203ad5a002\n",
      "INFO:cads_api_client.processing:Request ID is 8b96ef9d-0669-4263-bdd1-70cf7a0a4228\n",
      "INFO:cads_api_client.processing:Request ID is c61d4bc0-1cf9-47a0-a9af-e1907336b6bc\n",
      "2024-10-13 20:15:43,687 INFO Request ID is af1c2bf1-ad07-40cd-a5eb-1a0b31375cd2\n",
      "INFO:cads_api_client.processing:Request ID is 1bdc101b-0e81-42fb-95d0-ec2d61bb6057\n",
      "INFO:cads_api_client.processing:Request ID is 5efca594-d563-41e3-9e51-af203ad5a002\n",
      "INFO:cads_api_client.processing:Request ID is af1c2bf1-ad07-40cd-a5eb-1a0b31375cd2\n",
      "2024-10-13 20:15:43,739 WARNING [2024-10-10T00:00:00] The final validated ERA5 differs from ERA5T in July 2024 - please refer to our\n",
      "[Forum announcement](https://forum.ecmwf.int/t/final-validated-era5-product-to-differ-from-era5t-in-july-2024/6685)\n",
      "for details and watch it for further updates on this.\n",
      "WARNING:cads_api_client.processing:[2024-10-10T00:00:00] The final validated ERA5 differs from ERA5T in July 2024 - please refer to our\n",
      "[Forum announcement](https://forum.ecmwf.int/t/final-validated-era5-product-to-differ-from-era5t-in-july-2024/6685)\n",
      "for details and watch it for further updates on this.\n",
      "2024-10-13 20:15:43,745 WARNING [2024-10-13T18:15:43.690233] You are using a deprecated API endpoint. If you are using cdsapi, please upgrade to the latest version.\n",
      "WARNING:cads_api_client.processing:[2024-10-13T18:15:43.690233] You are using a deprecated API endpoint. If you are using cdsapi, please upgrade to the latest version.\n",
      "2024-10-13 20:15:43,747 INFO Request ID is 727b5db6-71a1-4418-abd5-b687c44cfe29\n",
      "INFO:cads_api_client.processing:Request ID is 727b5db6-71a1-4418-abd5-b687c44cfe29\n",
      "2024-10-13 20:15:43,749 WARNING [2024-10-10T00:00:00] The final validated ERA5 differs from ERA5T in July 2024 - please refer to our\n",
      "[Forum announcement](https://forum.ecmwf.int/t/final-validated-era5-product-to-differ-from-era5t-in-july-2024/6685)\n",
      "for details and watch it for further updates on this.\n",
      "WARNING:cads_api_client.processing:[2024-10-10T00:00:00] The final validated ERA5 differs from ERA5T in July 2024 - please refer to our\n",
      "[Forum announcement](https://forum.ecmwf.int/t/final-validated-era5-product-to-differ-from-era5t-in-july-2024/6685)\n",
      "for details and watch it for further updates on this.\n",
      "2024-10-13 20:15:43,755 WARNING [2024-10-10T00:00:00] The final validated ERA5 differs from ERA5T in July 2024 - please refer to our\n",
      "[Forum announcement](https://forum.ecmwf.int/t/final-validated-era5-product-to-differ-from-era5t-in-july-2024/6685)\n",
      "for details and watch it for further updates on this.\n",
      "2024-10-13 20:15:43,761 WARNING [2024-10-13T18:15:43.701147] You are using a deprecated API endpoint. If you are using cdsapi, please upgrade to the latest version.\n",
      "WARNING:cads_api_client.processing:[2024-10-10T00:00:00] The final validated ERA5 differs from ERA5T in July 2024 - please refer to our\n",
      "[Forum announcement](https://forum.ecmwf.int/t/final-validated-era5-product-to-differ-from-era5t-in-july-2024/6685)\n",
      "for details and watch it for further updates on this.\n",
      "2024-10-13 20:15:43,764 WARNING [2024-10-13T18:15:43.717204] You are using a deprecated API endpoint. If you are using cdsapi, please upgrade to the latest version.\n",
      "WARNING:cads_api_client.processing:[2024-10-13T18:15:43.701147] You are using a deprecated API endpoint. If you are using cdsapi, please upgrade to the latest version.\n",
      "2024-10-13 20:15:43,765 INFO Request ID is 71aeb7f4-1db7-44be-bdb5-b83b850e96f3\n",
      "WARNING:cads_api_client.processing:[2024-10-13T18:15:43.717204] You are using a deprecated API endpoint. If you are using cdsapi, please upgrade to the latest version.\n",
      "2024-10-13 20:15:43,766 INFO Request ID is 2596b346-1fb2-4ab8-99c8-8de37ac4b3a5\n",
      "INFO:cads_api_client.processing:Request ID is 71aeb7f4-1db7-44be-bdb5-b83b850e96f3\n",
      "INFO:cads_api_client.processing:Request ID is 2596b346-1fb2-4ab8-99c8-8de37ac4b3a5\n",
      "2024-10-13 20:15:43,769 INFO status has been updated to accepted\n",
      "INFO:cads_api_client.processing:status has been updated to accepted\n",
      "2024-10-13 20:15:43,771 INFO status has been updated to accepted\n",
      "INFO:cads_api_client.processing:status has been updated to accepted\n",
      "2024-10-13 20:15:43,773 INFO status has been updated to accepted\n",
      "INFO:cads_api_client.processing:status has been updated to accepted\n",
      "2024-10-13 20:15:43,774 WARNING [2024-10-10T00:00:00] The final validated ERA5 differs from ERA5T in July 2024 - please refer to our\n",
      "[Forum announcement](https://forum.ecmwf.int/t/final-validated-era5-product-to-differ-from-era5t-in-july-2024/6685)\n",
      "for details and watch it for further updates on this.\n",
      "WARNING:cads_api_client.processing:[2024-10-10T00:00:00] The final validated ERA5 differs from ERA5T in July 2024 - please refer to our\n",
      "[Forum announcement](https://forum.ecmwf.int/t/final-validated-era5-product-to-differ-from-era5t-in-july-2024/6685)\n",
      "for details and watch it for further updates on this.\n",
      "2024-10-13 20:15:43,787 INFO status has been updated to accepted\n",
      "INFO:cads_api_client.processing:status has been updated to accepted\n",
      "2024-10-13 20:15:43,787 WARNING [2024-10-13T18:15:43.741059] You are using a deprecated API endpoint. If you are using cdsapi, please upgrade to the latest version.\n",
      "WARNING:cads_api_client.processing:[2024-10-13T18:15:43.741059] You are using a deprecated API endpoint. If you are using cdsapi, please upgrade to the latest version.\n",
      "2024-10-13 20:15:43,789 INFO Request ID is 8d6cbf7a-b38e-4df5-a410-927ffaa0a8ca\n",
      "INFO:cads_api_client.processing:Request ID is 8d6cbf7a-b38e-4df5-a410-927ffaa0a8ca\n",
      "2024-10-13 20:15:43,794 INFO status has been updated to accepted\n",
      "INFO:cads_api_client.processing:status has been updated to accepted\n",
      "2024-10-13 20:15:43,860 INFO status has been updated to accepted\n",
      "INFO:cads_api_client.processing:status has been updated to accepted\n",
      "2024-10-13 20:15:43,861 INFO status has been updated to accepted\n",
      "INFO:cads_api_client.processing:status has been updated to accepted\n",
      "2024-10-13 20:15:43,874 INFO status has been updated to accepted\n",
      "INFO:cads_api_client.processing:status has been updated to accepted\n",
      "2024-10-13 20:15:44,062 INFO status has been updated to accepted\n",
      "INFO:cads_api_client.processing:status has been updated to accepted\n",
      "2024-10-13 20:15:44,166 WARNING [2024-10-10T00:00:00] The final validated ERA5 differs from ERA5T in July 2024 - please refer to our\n",
      "[Forum announcement](https://forum.ecmwf.int/t/final-validated-era5-product-to-differ-from-era5t-in-july-2024/6685)\n",
      "for details and watch it for further updates on this.\n",
      "WARNING:cads_api_client.processing:[2024-10-10T00:00:00] The final validated ERA5 differs from ERA5T in July 2024 - please refer to our\n",
      "[Forum announcement](https://forum.ecmwf.int/t/final-validated-era5-product-to-differ-from-era5t-in-july-2024/6685)\n",
      "for details and watch it for further updates on this.\n",
      "2024-10-13 20:15:44,171 INFO status has been updated to accepted\n",
      "INFO:cads_api_client.processing:status has been updated to accepted\n",
      "2024-10-13 20:15:44,173 WARNING [2024-10-13T18:15:43.944169] You are using a deprecated API endpoint. If you are using cdsapi, please upgrade to the latest version.\n",
      "WARNING:cads_api_client.processing:[2024-10-13T18:15:43.944169] You are using a deprecated API endpoint. If you are using cdsapi, please upgrade to the latest version.\n",
      "2024-10-13 20:15:44,174 INFO Request ID is 4a11885d-c149-41cf-8ace-818c3f31a71a\n",
      "INFO:cads_api_client.processing:Request ID is 4a11885d-c149-41cf-8ace-818c3f31a71a\n",
      "2024-10-13 20:15:44,199 WARNING [2024-10-10T00:00:00] The final validated ERA5 differs from ERA5T in July 2024 - please refer to our\n",
      "[Forum announcement](https://forum.ecmwf.int/t/final-validated-era5-product-to-differ-from-era5t-in-july-2024/6685)\n",
      "for details and watch it for further updates on this.\n",
      "WARNING:cads_api_client.processing:[2024-10-10T00:00:00] The final validated ERA5 differs from ERA5T in July 2024 - please refer to our\n",
      "[Forum announcement](https://forum.ecmwf.int/t/final-validated-era5-product-to-differ-from-era5t-in-july-2024/6685)\n",
      "for details and watch it for further updates on this.\n",
      "2024-10-13 20:15:44,205 WARNING [2024-10-13T18:15:43.994257] You are using a deprecated API endpoint. If you are using cdsapi, please upgrade to the latest version.\n",
      "WARNING:cads_api_client.processing:[2024-10-13T18:15:43.994257] You are using a deprecated API endpoint. If you are using cdsapi, please upgrade to the latest version.\n",
      "2024-10-13 20:15:44,206 INFO Request ID is 4af30655-61da-4983-b67b-b617d575fcfa\n",
      "INFO:cads_api_client.processing:Request ID is 4af30655-61da-4983-b67b-b617d575fcfa\n",
      "2024-10-13 20:15:44,250 INFO status has been updated to accepted\n",
      "INFO:cads_api_client.processing:status has been updated to accepted\n",
      "2024-10-13 20:15:44,287 INFO status has been updated to accepted\n",
      "INFO:cads_api_client.processing:status has been updated to accepted\n",
      "2024-10-13 20:15:47,764 INFO status has been updated to running\n",
      "INFO:cads_api_client.processing:status has been updated to running\n",
      "2024-10-13 20:15:51,243 INFO status has been updated to accepted\n",
      "INFO:cads_api_client.processing:status has been updated to accepted\n",
      "2024-10-13 20:15:56,440 INFO status has been updated to running\n",
      "INFO:cads_api_client.processing:status has been updated to running\n",
      "2024-10-13 20:18:35,068 INFO status has been updated to successful\n",
      "INFO:cads_api_client.processing:status has been updated to successful\n",
      "INFO:atlite.datasets.era5:CDS: Downloading variables\n",
      "\t100m_u_component_of_wind (2015-7)\n",
      "\t100m_v_component_of_wind (2015-7)\n",
      "\tforecast_surface_roughness (2015-7)\n",
      "\n",
      "INFO:multiurl.base:Downloading https://object-store.os-api.cci2.ecmwf.int:443/cci2-prod-cache/40ec09cf80b3e5a3ea073da80d24c56a.nc\n",
      "2024-10-13 20:18:35,428 INFO status has been updated to running\n",
      "INFO:cads_api_client.processing:status has been updated to running\n"
     ]
    },
    {
     "data": {
      "application/vnd.jupyter.widget-view+json": {
       "model_id": "9600c0a0089647c2b91b3a0e9e4d0ef9",
       "version_major": 2,
       "version_minor": 0
      },
      "text/plain": [
       "40ec09cf80b3e5a3ea073da80d24c56a.nc:   0%|          | 0.00/8.05M [00:00<?, ?B/s]"
      ]
     },
     "metadata": {},
     "output_type": "display_data"
    },
    {
     "name": "stderr",
     "output_type": "stream",
     "text": [
      "2024-10-13 20:20:02,167 INFO status has been updated to successful\n",
      "INFO:cads_api_client.processing:status has been updated to successful\n",
      "2024-10-13 20:20:02,623 INFO status has been updated to running\n",
      "INFO:cads_api_client.processing:status has been updated to running\n",
      "INFO:atlite.datasets.era5:CDS: Downloading variables\n",
      "\t100m_u_component_of_wind (2015-4)\n",
      "\t100m_v_component_of_wind (2015-4)\n",
      "\tforecast_surface_roughness (2015-4)\n",
      "\n",
      "INFO:multiurl.base:Downloading https://object-store.os-api.cci2.ecmwf.int:443/cci2-prod-cache/7c9564d779b96917128f7ee9adf82c98.nc\n"
     ]
    },
    {
     "data": {
      "application/vnd.jupyter.widget-view+json": {
       "model_id": "ae750a0e02de439cb93e1ae7e59348a9",
       "version_major": 2,
       "version_minor": 0
      },
      "text/plain": [
       "7c9564d779b96917128f7ee9adf82c98.nc:   0%|          | 0.00/7.89M [00:00<?, ?B/s]"
      ]
     },
     "metadata": {},
     "output_type": "display_data"
    },
    {
     "name": "stderr",
     "output_type": "stream",
     "text": [
      "2024-10-13 20:22:02,346 INFO status has been updated to running\n",
      "INFO:cads_api_client.processing:status has been updated to running\n",
      "2024-10-13 20:22:03,018 INFO status has been updated to successful\n",
      "INFO:cads_api_client.processing:status has been updated to successful\n",
      "INFO:atlite.datasets.era5:CDS: Downloading variables\n",
      "\t100m_u_component_of_wind (2015-8)\n",
      "\t100m_v_component_of_wind (2015-8)\n",
      "\tforecast_surface_roughness (2015-8)\n",
      "\n",
      "INFO:multiurl.base:Downloading https://object-store.os-api.cci2.ecmwf.int:443/cci2-prod-cache/46020ece3d20cafa2b92c99a91f38ad8.nc\n"
     ]
    },
    {
     "data": {
      "application/vnd.jupyter.widget-view+json": {
       "model_id": "1a2473d72ced4462bd374267f36eae08",
       "version_major": 2,
       "version_minor": 0
      },
      "text/plain": [
       "46020ece3d20cafa2b92c99a91f38ad8.nc:   0%|          | 0.00/8.07M [00:00<?, ?B/s]"
      ]
     },
     "metadata": {},
     "output_type": "display_data"
    },
    {
     "name": "stderr",
     "output_type": "stream",
     "text": [
      "2024-10-13 20:26:02,866 INFO status has been updated to successful\n",
      "INFO:cads_api_client.processing:status has been updated to successful\n",
      "2024-10-13 20:26:03,244 INFO status has been updated to running\n",
      "INFO:cads_api_client.processing:status has been updated to running\n",
      "INFO:atlite.datasets.era5:CDS: Downloading variables\n",
      "\t100m_u_component_of_wind (2015-1)\n",
      "\t100m_v_component_of_wind (2015-1)\n",
      "\tforecast_surface_roughness (2015-1)\n",
      "\n",
      "INFO:multiurl.base:Downloading https://object-store.os-api.cci2.ecmwf.int:443/cci2-prod-cache/2ac8cc502949bed1ce5131e77e5a746d.nc\n"
     ]
    },
    {
     "data": {
      "application/vnd.jupyter.widget-view+json": {
       "model_id": "b4feb7a600d548db99bdc831c779b86d",
       "version_major": 2,
       "version_minor": 0
      },
      "text/plain": [
       "2ac8cc502949bed1ce5131e77e5a746d.nc:   0%|          | 0.00/8.21M [00:00<?, ?B/s]"
      ]
     },
     "metadata": {},
     "output_type": "display_data"
    },
    {
     "name": "stderr",
     "output_type": "stream",
     "text": [
      "2024-10-13 20:28:03,103 INFO status has been updated to running\n",
      "INFO:cads_api_client.processing:status has been updated to running\n",
      "2024-10-13 20:28:03,758 INFO status has been updated to successful\n",
      "INFO:cads_api_client.processing:status has been updated to successful\n",
      "INFO:atlite.datasets.era5:CDS: Downloading variables\n",
      "\t100m_u_component_of_wind (2015-11)\n",
      "\t100m_v_component_of_wind (2015-11)\n",
      "\tforecast_surface_roughness (2015-11)\n",
      "\n",
      "INFO:multiurl.base:Downloading https://object-store.os-api.cci2.ecmwf.int:443/cci2-prod-cache/980d1b7e57f4e56cbfc7750526f48d20.nc\n"
     ]
    },
    {
     "data": {
      "application/vnd.jupyter.widget-view+json": {
       "model_id": "c4b09801fbf3454b9e6a5d9f1d8787c9",
       "version_major": 2,
       "version_minor": 0
      },
      "text/plain": [
       "980d1b7e57f4e56cbfc7750526f48d20.nc:   0%|          | 0.00/7.84M [00:00<?, ?B/s]"
      ]
     },
     "metadata": {},
     "output_type": "display_data"
    },
    {
     "name": "stderr",
     "output_type": "stream",
     "text": [
      "2024-10-13 20:30:05,320 INFO status has been updated to successful\n",
      "INFO:cads_api_client.processing:status has been updated to successful\n",
      "2024-10-13 20:30:05,439 INFO status has been updated to running\n",
      "INFO:cads_api_client.processing:status has been updated to running\n",
      "INFO:atlite.datasets.era5:CDS: Downloading variables\n",
      "\t100m_u_component_of_wind (2015-9)\n",
      "\t100m_v_component_of_wind (2015-9)\n",
      "\tforecast_surface_roughness (2015-9)\n",
      "\n",
      "INFO:multiurl.base:Downloading https://object-store.os-api.cci2.ecmwf.int:443/cci2-prod-cache/8775c8ea64122677a4cc91f9596646a9.nc\n"
     ]
    },
    {
     "data": {
      "application/vnd.jupyter.widget-view+json": {
       "model_id": "68e61b7c64914546a1ae1b1442bab3c9",
       "version_major": 2,
       "version_minor": 0
      },
      "text/plain": [
       "8775c8ea64122677a4cc91f9596646a9.nc:   0%|          | 0.00/7.84M [00:00<?, ?B/s]"
      ]
     },
     "metadata": {},
     "output_type": "display_data"
    },
    {
     "name": "stderr",
     "output_type": "stream",
     "text": [
      "2024-10-13 20:32:04,837 INFO status has been updated to running\n",
      "INFO:cads_api_client.processing:status has been updated to running\n",
      "2024-10-13 20:32:05,836 INFO status has been updated to successful\n",
      "INFO:cads_api_client.processing:status has been updated to successful\n",
      "INFO:atlite.datasets.era5:CDS: Downloading variables\n",
      "\t100m_u_component_of_wind (2015-3)\n",
      "\t100m_v_component_of_wind (2015-3)\n",
      "\tforecast_surface_roughness (2015-3)\n",
      "\n",
      "INFO:multiurl.base:Downloading https://object-store.os-api.cci2.ecmwf.int:443/cci2-prod-cache/330c1a576ed60d642c8a4e331e2c8787.nc\n"
     ]
    },
    {
     "data": {
      "application/vnd.jupyter.widget-view+json": {
       "model_id": "425570864be846c292c91af4a64125ba",
       "version_major": 2,
       "version_minor": 0
      },
      "text/plain": [
       "330c1a576ed60d642c8a4e331e2c8787.nc:   0%|          | 0.00/8.22M [00:00<?, ?B/s]"
      ]
     },
     "metadata": {},
     "output_type": "display_data"
    },
    {
     "name": "stderr",
     "output_type": "stream",
     "text": [
      "2024-10-13 20:36:03,951 INFO status has been updated to running\n",
      "INFO:cads_api_client.processing:status has been updated to running\n",
      "2024-10-13 20:36:05,376 INFO status has been updated to successful\n",
      "INFO:cads_api_client.processing:status has been updated to successful\n",
      "INFO:atlite.datasets.era5:CDS: Downloading variables\n",
      "\t100m_u_component_of_wind (2015-5)\n",
      "\t100m_v_component_of_wind (2015-5)\n",
      "\tforecast_surface_roughness (2015-5)\n",
      "\n",
      "INFO:multiurl.base:Downloading https://object-store.os-api.cci2.ecmwf.int:443/cci2-prod-cache/cb38c33f6072862b398d065aeb8ca81b.nc\n"
     ]
    },
    {
     "data": {
      "application/vnd.jupyter.widget-view+json": {
       "model_id": "87c83e840537464c938e68e9841d0f61",
       "version_major": 2,
       "version_minor": 0
      },
      "text/plain": [
       "cb38c33f6072862b398d065aeb8ca81b.nc:   0%|          | 0.00/8.19M [00:00<?, ?B/s]"
      ]
     },
     "metadata": {},
     "output_type": "display_data"
    },
    {
     "name": "stderr",
     "output_type": "stream",
     "text": [
      "2024-10-13 20:38:04,270 INFO status has been updated to successful\n",
      "INFO:cads_api_client.processing:status has been updated to successful\n",
      "INFO:atlite.datasets.era5:CDS: Downloading variables\n",
      "\t100m_u_component_of_wind (2015-6)\n",
      "\t100m_v_component_of_wind (2015-6)\n",
      "\tforecast_surface_roughness (2015-6)\n",
      "\n",
      "INFO:multiurl.base:Downloading https://object-store.os-api.cci2.ecmwf.int:443/cci2-prod-cache/44dc57b6982b15acf572c45514b1e98c.nc\n",
      "2024-10-13 20:38:04,961 INFO status has been updated to running\n",
      "INFO:cads_api_client.processing:status has been updated to running\n"
     ]
    },
    {
     "data": {
      "application/vnd.jupyter.widget-view+json": {
       "model_id": "0cb5ee3b4d084c8980d0e6164c2f4165",
       "version_major": 2,
       "version_minor": 0
      },
      "text/plain": [
       "44dc57b6982b15acf572c45514b1e98c.nc:   0%|          | 0.00/7.86M [00:00<?, ?B/s]"
      ]
     },
     "metadata": {},
     "output_type": "display_data"
    },
    {
     "name": "stderr",
     "output_type": "stream",
     "text": [
      "2024-10-13 20:40:05,216 INFO status has been updated to successful\n",
      "INFO:cads_api_client.processing:status has been updated to successful\n",
      "INFO:atlite.datasets.era5:CDS: Downloading variables\n",
      "\t100m_u_component_of_wind (2015-12)\n",
      "\t100m_v_component_of_wind (2015-12)\n",
      "\tforecast_surface_roughness (2015-12)\n",
      "\n",
      "INFO:multiurl.base:Downloading https://object-store.os-api.cci2.ecmwf.int:443/cci2-prod-cache/5ab852f9105e7cbd6ba3c9fce030a4e1.nc\n"
     ]
    },
    {
     "data": {
      "application/vnd.jupyter.widget-view+json": {
       "model_id": "9f74a605952a47f5b1d38cff324c223c",
       "version_major": 2,
       "version_minor": 0
      },
      "text/plain": [
       "5ab852f9105e7cbd6ba3c9fce030a4e1.nc:   0%|          | 0.00/8.13M [00:00<?, ?B/s]"
      ]
     },
     "metadata": {},
     "output_type": "display_data"
    },
    {
     "name": "stderr",
     "output_type": "stream",
     "text": [
      "2024-10-13 20:40:09,684 INFO status has been updated to running\n",
      "INFO:cads_api_client.processing:status has been updated to running\n",
      "2024-10-13 20:42:05,197 INFO status has been updated to running\n",
      "INFO:cads_api_client.processing:status has been updated to running\n",
      "2024-10-13 20:42:10,152 INFO status has been updated to successful\n",
      "INFO:cads_api_client.processing:status has been updated to successful\n",
      "INFO:atlite.datasets.era5:CDS: Downloading variables\n",
      "\t100m_u_component_of_wind (2015-10)\n",
      "\t100m_v_component_of_wind (2015-10)\n",
      "\tforecast_surface_roughness (2015-10)\n",
      "\n",
      "INFO:multiurl.base:Downloading https://object-store.os-api.cci2.ecmwf.int:443/cci2-prod-cache/79ab2e7b38f2589cc6d5cd63ab196aa9.nc\n"
     ]
    },
    {
     "data": {
      "application/vnd.jupyter.widget-view+json": {
       "model_id": "e108487c91244a98a92cd3a60f871e0c",
       "version_major": 2,
       "version_minor": 0
      },
      "text/plain": [
       "79ab2e7b38f2589cc6d5cd63ab196aa9.nc:   0%|          | 0.00/8.07M [00:00<?, ?B/s]"
      ]
     },
     "metadata": {},
     "output_type": "display_data"
    },
    {
     "name": "stderr",
     "output_type": "stream",
     "text": [
      "2024-10-13 20:44:05,580 INFO status has been updated to successful\n",
      "INFO:cads_api_client.processing:status has been updated to successful\n",
      "INFO:atlite.datasets.era5:CDS: Downloading variables\n",
      "\t100m_u_component_of_wind (2015-2)\n",
      "\t100m_v_component_of_wind (2015-2)\n",
      "\tforecast_surface_roughness (2015-2)\n",
      "\n",
      "INFO:multiurl.base:Downloading https://object-store.os-api.cci2.ecmwf.int:443/cci2-prod-cache/536c58e33f66d79cf0326887cf354795.nc\n"
     ]
    },
    {
     "data": {
      "application/vnd.jupyter.widget-view+json": {
       "model_id": "73418ce8e27a4990a0a64242b11bc53d",
       "version_major": 2,
       "version_minor": 0
      },
      "text/plain": [
       "536c58e33f66d79cf0326887cf354795.nc:   0%|          | 0.00/7.45M [00:00<?, ?B/s]"
      ]
     },
     "metadata": {},
     "output_type": "display_data"
    },
    {
     "data": {
      "text/plain": [
       "<Cutout \"egypt-2015-wind2-era5\">\n",
       " x = 24.75 ⟷ 36.25, dx = 0.25\n",
       " y = 21.75 ⟷ 31.75, dy = 0.25\n",
       " time = 2015-01-01 ⟷ 2015-12-31, dt = h\n",
       " module = era5\n",
       " prepared_features = ['wind']"
      ]
     },
     "execution_count": 6,
     "metadata": {},
     "output_type": "execute_result"
    }
   ],
   "source": [
    "cutout.prepare(features=['wind'], monthly_requests=True, concurrent_requests=True, compression=None) \n",
    "#cutout.prepare(features=['influx', 'temperature'], monthly_requests=True, concurrent_requests=True, compression=None) "
   ]
  }
 ],
 "metadata": {
  "kernelspec": {
   "display_name": "atlite",
   "language": "python",
   "name": "python3"
  },
  "language_info": {
   "codemirror_mode": {
    "name": "ipython",
    "version": 3
   },
   "file_extension": ".py",
   "mimetype": "text/x-python",
   "name": "python",
   "nbconvert_exporter": "python",
   "pygments_lexer": "ipython3",
   "version": "3.12.4"
  }
 },
 "nbformat": 4,
 "nbformat_minor": 2
}
